{
 "cells": [
  {
   "cell_type": "code",
   "execution_count": 6,
   "metadata": {},
   "outputs": [
    {
     "name": "stdout",
     "output_type": "stream",
     "text": [
      "Enter a file name to read the data: abc.txt\n",
      "                                                           PYTHON LANGUAGE:\n",
      "There are 5 data types in Python:\n",
      "  Numeric    - Integers\n",
      "                 Float\n",
      "                 Complex numbers\n",
      "  Sequence type   - Srings\n",
      "                    Lists\n",
      "                    Tuple\n",
      "  Boolean\n",
      "  Set\n",
      "  Dictionary\n",
      "  \n"
     ]
    }
   ],
   "source": [
    "# program to read an entire text file\n",
    "def fread(f):\n",
    "    t=open(f)\n",
    "    print(t.read())\n",
    "fname = input('Enter a file name to read the data: ')\n",
    "fread(fname)"
   ]
  },
  {
   "cell_type": "code",
   "execution_count": 1,
   "metadata": {},
   "outputs": [
    {
     "name": "stdout",
     "output_type": "stream",
     "text": [
      "Enter a file name: abc.txt\n",
      "Enter how many no.of lines to read: 5\n",
      "                                                           PYTHON LANGUAGE:\n",
      "\n",
      "There are 5 data types in Python:\n",
      "\n",
      "  Numeric    - Integers\n",
      "\n",
      "                 Float\n",
      "\n",
      "                 Complex numbers\n",
      "\n"
     ]
    }
   ],
   "source": [
    "# program to read first n lines of a list\n",
    "fname = input('Enter a file name: ')\n",
    "f=open(fname)\n",
    "n = int(input('Enter how many no.of lines to read: '))\n",
    "for i in range(n):\n",
    "    line = f.readline()\n",
    "    print(line)"
   ]
  },
  {
   "cell_type": "code",
   "execution_count": 11,
   "metadata": {},
   "outputs": [
    {
     "name": "stdout",
     "output_type": "stream",
     "text": [
      "Enter a file name: xyz.txt\n",
      "Python Programming\n",
      "Module 4 assignments\n",
      "Sample exercises\n"
     ]
    }
   ],
   "source": [
    "# program to append text to a file and display it\n",
    "def f_append(fname):\n",
    "    from itertools import islice\n",
    "    with open(fname,\"w\") as myfile:\n",
    "        myfile.write(\"Python Programming\\n\")\n",
    "        myfile.write(\"Module 4 assignments\\n\")\n",
    "        myfile.write(\"Sample exercises\")\n",
    "    t=open(fname)\n",
    "    print(t.read())\n",
    "fname = input('Enter a file name: ')\n",
    "f_append(fname)"
   ]
  },
  {
   "cell_type": "code",
   "execution_count": 8,
   "metadata": {},
   "outputs": [
    {
     "name": "stdout",
     "output_type": "stream",
     "text": [
      "Enter a file name: abc.txt\n",
      "Enter how many no.of lines to read: 5\n",
      "                    Tuple\n",
      "  Boolean\n",
      "  Set\n",
      "  Dictionary\n",
      "  "
     ]
    }
   ],
   "source": [
    "# program to read last n lines of a file\n",
    "def last(fname,n):\n",
    "    with open (fname) as file:\n",
    "        for line in (file.readlines() [-n:]):\n",
    "            print(line,end='')\n",
    "fname = input('Enter a file name: ')\n",
    "n = int(input('Enter how many no.of lines to read: '))\n",
    "last(fname,n)"
   ]
  },
  {
   "cell_type": "code",
   "execution_count": 13,
   "metadata": {},
   "outputs": [
    {
     "name": "stdout",
     "output_type": "stream",
     "text": [
      "Enter a file name: a1.txt\n",
      "['Python Programming\\n', 'Module 4 assignments\\n', 'Sample exercises']\n"
     ]
    }
   ],
   "source": [
    "# program to read a file line by line and store it into a variable\n",
    "def f_read(fname):\n",
    "    with open(fname,\"r\") as myfile:\n",
    "        data=myfile.readlines()\n",
    "        print(data)\n",
    "fname = input('Enter a file name: ')\n",
    "f_read(fname)"
   ]
  },
  {
   "cell_type": "code",
   "execution_count": 14,
   "metadata": {},
   "outputs": [
    {
     "name": "stdout",
     "output_type": "stream",
     "text": [
      "Enter a file name: xyz.txt\n",
      "['Python Programming\\n', 'Module 4 assignments\\n', 'Sample exercises']\n"
     ]
    }
   ],
   "source": [
    "# program to read a file line by line and store it into a list\n",
    "def f_read(fname):\n",
    "    with open(fname) as f:\n",
    "        flist=f.readlines()\n",
    "        print(flist)\n",
    "fname = input('Enter a file name: ')\n",
    "f_read(fname)"
   ]
  },
  {
   "cell_type": "code",
   "execution_count": 15,
   "metadata": {},
   "outputs": [
    {
     "name": "stdout",
     "output_type": "stream",
     "text": [
      "Enter a file name: abc.txt\n",
      "['                                                           PYTHON LANGUAGE:\\n', 'There are 5 data types in Python:\\n', '  Numeric    - Integers\\n', '                 Float\\n', '                 Complex numbers\\n', '  Sequence type   - Srings\\n', '                    Lists\\n', '                    Tuple\\n', '  Boolean\\n', '  Set\\n', '  Dictionary\\n', '  ']\n"
     ]
    }
   ],
   "source": [
    "# program to read a file line by line and store it into an array\n",
    "def f_read(fname):\n",
    "    ar=[]\n",
    "    with open(fname) as f:\n",
    "        for line in f:\n",
    "            ar.append(line)\n",
    "        print(ar)\n",
    "fname = input('Enter a file name: ')\n",
    "f_read(fname)"
   ]
  },
  {
   "cell_type": "code",
   "execution_count": 4,
   "metadata": {},
   "outputs": [
    {
     "name": "stdout",
     "output_type": "stream",
     "text": [
      "Enter a file name: abc.txt\n",
      "the no of lines in the required text file is: 12\n"
     ]
    }
   ],
   "source": [
    "# program to count no of lines in a text file\n",
    "fname = input('Enter a file name: ')\n",
    "f=open(fname)\n",
    "c=0\n",
    "t=f.read()\n",
    "tlist=t.split(\"\\n\")\n",
    "for i in tlist:\n",
    "    if i:\n",
    "        c+=1\n",
    "print(\"the no of lines in the required text file is:\",c)"
   ]
  },
  {
   "cell_type": "code",
   "execution_count": 6,
   "metadata": {},
   "outputs": [
    {
     "name": "stdout",
     "output_type": "stream",
     "text": [
      "The size of give plain file is 40 Bytes\n"
     ]
    }
   ],
   "source": [
    "# program to get the file size of a plain file\n",
    "import os\n",
    "fsize=os.path.getsize(\"xyz.txt\")\n",
    "print(\"The size of give plain file is\",fsize,\"Bytes\")"
   ]
  },
  {
   "cell_type": "code",
   "execution_count": 12,
   "metadata": {},
   "outputs": [],
   "source": [
    "# program to copy the contents of a file to another file\n",
    "with open(\"xyz.txt\") as f:\n",
    "    with open(\"a1.txt\", \"w\") as f1:\n",
    "        for line in f:\n",
    "            f1.write(line)"
   ]
  },
  {
   "cell_type": "code",
   "execution_count": 5,
   "metadata": {},
   "outputs": [
    {
     "name": "stdout",
     "output_type": "stream",
     "text": [
      "Enter number of items in the list: 5\n",
      "Enter a number: 2\n",
      "Enter a number: 4\n",
      "Enter a number: 6\n",
      "Enter a number: 3\n",
      "Enter a number: 5\n",
      "The sum of items in list is 20.0\n"
     ]
    }
   ],
   "source": [
    "# program to sum all the items in list\n",
    "n=int(input('Enter number of items in the list: '))\n",
    "l=[]\n",
    "for i in range(0,n):\n",
    "    e=float(input('Enter a number: '))\n",
    "    l.append(e)\n",
    "def multi(items):\n",
    "    t=0\n",
    "    for x in items:\n",
    "        t=t+x\n",
    "    return t\n",
    "print(\"The sum of items in list is\",multi(l))"
   ]
  },
  {
   "cell_type": "code",
   "execution_count": 7,
   "metadata": {},
   "outputs": [
    {
     "name": "stdout",
     "output_type": "stream",
     "text": [
      "Enter number of items in the list: 5\n",
      "Enter a number: -3\n",
      "Enter a number: -2\n",
      "Enter a number: -6\n",
      "Enter a number: 4\n",
      "Enter a number: 5\n",
      "The product of items in list is -720.0\n"
     ]
    }
   ],
   "source": [
    "# program to multiply all the items in list\n",
    "n=int(input('Enter number of items in the list: '))\n",
    "l=[]\n",
    "for i in range(0,n):\n",
    "    e=float(input('Enter a number: '))\n",
    "    l.append(e)\n",
    "def multi(items):\n",
    "    t=1\n",
    "    for x in items:\n",
    "        t=t*x\n",
    "    return t\n",
    "print(\"The product of items in list is\",multi(l))"
   ]
  },
  {
   "cell_type": "code",
   "execution_count": 10,
   "metadata": {},
   "outputs": [
    {
     "name": "stdout",
     "output_type": "stream",
     "text": [
      "Enter number of items in the list: 7\n",
      "Enter a number: 2\n",
      "Enter a number: 4\n",
      "Enter a number: 9\n",
      "Enter a number: 7\n",
      "Enter a number: 5\n",
      "Enter a number: 6\n",
      "Enter a number: 3\n",
      "The smallest number in the list is 2.0\n",
      "The largest number in the list is 9.0\n"
     ]
    }
   ],
   "source": [
    "# program to get smallest and largest numbers from the list\n",
    "n=int(input('Enter number of items in the list: '))\n",
    "l=[]\n",
    "for i in range(0,n):\n",
    "    e=float(input('Enter a number: '))\n",
    "    l.append(e)\n",
    "print(\"The smallest number in the list is\",min(l))\n",
    "print(\"The largest number in the list is\",max(l))"
   ]
  },
  {
   "cell_type": "code",
   "execution_count": 20,
   "metadata": {},
   "outputs": [
    {
     "name": "stdout",
     "output_type": "stream",
     "text": [
      "Enter number of items in the list: 6\n",
      "Enter an element: an\n",
      "Enter an element: or\n",
      "Enter an element: 3\n",
      "Enter an element: to\n",
      "Enter an element: or\n",
      "Enter an element: 3\n",
      "After removing duplicates:\n",
      " ['an', 'or', '3', 'to']\n"
     ]
    }
   ],
   "source": [
    "# program to remove duplicates from the list\n",
    "def rem(d):\n",
    "    x=[]\n",
    "    for n in d:\n",
    "        if n not in x:\n",
    "            x.append(n)\n",
    "    return x\n",
    "n=int(input('Enter number of items in the list: '))\n",
    "l=[]\n",
    "for i in range(0,n):\n",
    "    e=str(input('Enter an element: '))\n",
    "    l.append(e)\n",
    "print(\"After removing duplicates:\\n\",rem(l))"
   ]
  },
  {
   "cell_type": "code",
   "execution_count": 13,
   "metadata": {},
   "outputs": [
    {
     "name": "stdout",
     "output_type": "stream",
     "text": [
      "The list is not empty!\n"
     ]
    }
   ],
   "source": [
    "# program to check a list is empty or not\n",
    "def check(l):\n",
    "    if len(l)==0:\n",
    "        return 0\n",
    "    else:\n",
    "        return 1\n",
    "l=[1,-4,7,3]  #l=[] for empty list\n",
    "if check(l):\n",
    "    print(\"The list is not empty!\")\n",
    "else:\n",
    "    print(\"The list is empty\")"
   ]
  },
  {
   "cell_type": "code",
   "execution_count": 21,
   "metadata": {},
   "outputs": [
    {
     "name": "stdout",
     "output_type": "stream",
     "text": [
      "Enter number of items in the list: 7\n",
      "Enter an element: go\n",
      "Enter an element: to\n",
      "Enter an element: the\n",
      "Enter an element: 5\n",
      "Enter an element: star\n",
      "Enter an element: and\n",
      "Enter an element: come\n",
      "Before cloning: ['go', 'to', 'the', '5', 'star', 'and', 'come']\n",
      "After cloning: ['go', 'to', 'the', '5', 'star', 'and', 'come']\n"
     ]
    }
   ],
   "source": [
    "# program to clone or copy a list\n",
    "def clone(l1):\n",
    "    l_cpy = list(l1)\n",
    "    return l_cpy\n",
    "n=int(input('Enter number of items in the list: '))\n",
    "l1=[]\n",
    "for i in range(0,n):\n",
    "    e=str(input('Enter an element: '))\n",
    "    l1.append(e)\n",
    "l2=clone(l1)\n",
    "print(\"Before cloning:\",l1)\n",
    "print(\"After cloning:\",l2)"
   ]
  },
  {
   "cell_type": "code",
   "execution_count": 19,
   "metadata": {},
   "outputs": [
    {
     "name": "stdout",
     "output_type": "stream",
     "text": [
      "Enter number of items in the list: 7\n",
      "Enter a number: red\n",
      "Enter a number: white\n",
      "Enter a number: green\n",
      "Enter a number: yellow\n",
      "Enter a number: pink\n",
      "Enter a number: blue\n",
      "Enter a number: black\n",
      "After removing 0th,4th and 5th elements: ['white', 'green', 'yellow', 'black']\n"
     ]
    }
   ],
   "source": [
    "# program to print a list after removing 0th,4th and 5th elements\n",
    "n=int(input('Enter number of items in the list: '))\n",
    "l=[]\n",
    "for i in range(0,n):\n",
    "    e=str(input('Enter an element: '))\n",
    "    l.append(e)\n",
    "l=[x for (i,x) in enumerate (l) if i not in(0,4,5)]\n",
    "print(\"After removing 0th,4th and 5th elements:\",l)"
   ]
  },
  {
   "cell_type": "code",
   "execution_count": 22,
   "metadata": {},
   "outputs": [
    {
     "name": "stdout",
     "output_type": "stream",
     "text": [
      "Enter number of items in the list: 5\n",
      "Enter a number: 2\n",
      "Enter a number: 6\n",
      "Enter a number: 4\n",
      "Enter a number: 7\n",
      "Enter a number: 1\n",
      "After removing even numbers: [7.0, 1.0]\n"
     ]
    }
   ],
   "source": [
    "# program to print the numbers of a list after removing even numbers\n",
    "n=int(input('Enter number of items in the list: '))\n",
    "l=[]\n",
    "for i in range(0,n):\n",
    "    e=float(input('Enter a number: '))\n",
    "    l.append(e)\n",
    "l=[x for x in l if x%2!=0]\n",
    "print(\"After removing even numbers:\",l)"
   ]
  },
  {
   "cell_type": "code",
   "execution_count": 23,
   "metadata": {},
   "outputs": [
    {
     "name": "stdout",
     "output_type": "stream",
     "text": [
      "Enter number of items in the list: 8\n",
      "Enter an element: hii\n",
      "Enter an element: hello\n",
      "Enter an element: how\n",
      "Enter an element: are\n",
      "Enter an element: you\n",
      "Enter an element: 35\n",
      "Enter an element: 45.7\n",
      "Enter an element: byeee\n",
      "['45.7', 'you', 'byeee', 'hii', 'how', 'hello', 'are', '35']\n"
     ]
    }
   ],
   "source": [
    "# program to shuffle and print a specified list\n",
    "from random import shuffle\n",
    "n=int(input('Enter number of items in the list: '))\n",
    "l=[]\n",
    "for i in range(0,n):\n",
    "    e=str(input('Enter an element: '))\n",
    "    l.append(e)\n",
    "shuffle(l)\n",
    "print(l)"
   ]
  },
  {
   "cell_type": "code",
   "execution_count": 24,
   "metadata": {},
   "outputs": [
    {
     "name": "stdout",
     "output_type": "stream",
     "text": [
      "Enter no.of elements in list 1: 7\n",
      "Enter elements of 1st list:\n",
      "Enter an element: 3\n",
      "Enter an element: 5\n",
      "Enter an element: 8\n",
      "Enter an element: 1\n",
      "Enter an element: 4\n",
      "Enter an element: 9\n",
      "Enter an element: 6\n",
      "Enter no.of elements in list 2: 4\n",
      "Enter elements of 2nd list:\n",
      "Enter an element: 7\n",
      "Enter an element: 0\n",
      "Enter an element: 1\n",
      "Enter an element: 4\n",
      "Difference of two lists is:\n",
      "[3.0, 5.0, 6.0, 8.0, 9.0]\n"
     ]
    }
   ],
   "source": [
    "# program to find difference between two lists\n",
    "# Using set() function\n",
    "def d(a,b):\n",
    "    print(\"Difference of two lists is:\")\n",
    "    return (list(set(A)-set(B)))\n",
    "A=list()\n",
    "n1=int(input('Enter no.of elements in list 1: '))\n",
    "print(\"Enter elements of 1st list:\")\n",
    "for i in range(n1):\n",
    "    e=float(input(\"Enter an element: \"))\n",
    "    A.append(e)\n",
    "B=list()\n",
    "n2=int(input('Enter no.of elements in list 2: '))\n",
    "print(\"Enter elements of 2nd list:\")\n",
    "for i in range(n2):\n",
    "    e=float(input(\"Enter an element: \"))\n",
    "    B.append(e)\n",
    "print(d(A,B))"
   ]
  }
 ],
 "metadata": {
  "kernelspec": {
   "display_name": "Python 3",
   "language": "python",
   "name": "python3"
  },
  "language_info": {
   "codemirror_mode": {
    "name": "ipython",
    "version": 3
   },
   "file_extension": ".py",
   "mimetype": "text/x-python",
   "name": "python",
   "nbconvert_exporter": "python",
   "pygments_lexer": "ipython3",
   "version": "3.7.6"
  }
 },
 "nbformat": 4,
 "nbformat_minor": 4
}
