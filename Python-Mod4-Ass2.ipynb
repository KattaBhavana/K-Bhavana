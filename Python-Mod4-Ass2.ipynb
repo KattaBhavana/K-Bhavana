{
 "cells": [
  {
   "cell_type": "code",
   "execution_count": 2,
   "metadata": {},
   "outputs": [
    {
     "name": "stdout",
     "output_type": "stream",
     "text": [
      "FizzBuzz\n",
      "1\n",
      "2\n",
      "Fizz\n",
      "4\n",
      "Fizz\n",
      "Fizz\n",
      "7\n",
      "8\n",
      "Fizz\n",
      "Fizz\n",
      "11\n",
      "Fizz\n",
      "13\n",
      "14\n",
      "FizzBuzz\n",
      "16\n",
      "17\n",
      "Fizz\n",
      "19\n",
      "Fizz\n",
      "Fizz\n",
      "22\n",
      "23\n",
      "Fizz\n",
      "Fizz\n",
      "26\n",
      "Fizz\n",
      "28\n",
      "29\n",
      "FizzBuzz\n",
      "31\n",
      "32\n",
      "Fizz\n",
      "34\n",
      "Fizz\n",
      "Fizz\n",
      "37\n",
      "38\n",
      "Fizz\n",
      "Fizz\n",
      "41\n",
      "Fizz\n",
      "43\n",
      "44\n",
      "FizzBuzz\n",
      "46\n",
      "47\n",
      "Fizz\n",
      "49\n",
      "Fizz\n",
      "Fizz\n",
      "52\n",
      "53\n",
      "Fizz\n",
      "Fizz\n",
      "56\n",
      "Fizz\n",
      "58\n",
      "59\n",
      "FizzBuzz\n",
      "61\n",
      "62\n",
      "Fizz\n",
      "64\n",
      "Fizz\n",
      "Fizz\n",
      "67\n",
      "68\n",
      "Fizz\n",
      "Fizz\n",
      "71\n",
      "Fizz\n",
      "73\n",
      "74\n",
      "FizzBuzz\n",
      "76\n",
      "77\n",
      "Fizz\n",
      "79\n",
      "Fizz\n",
      "Fizz\n",
      "82\n",
      "83\n",
      "Fizz\n",
      "Fizz\n",
      "86\n",
      "Fizz\n",
      "88\n",
      "89\n",
      "FizzBuzz\n",
      "91\n",
      "92\n",
      "Fizz\n",
      "94\n",
      "Fizz\n",
      "Fizz\n",
      "97\n",
      "98\n",
      "Fizz\n"
     ]
    }
   ],
   "source": [
    "# program to print 1 to 100 integers.But \n",
    "# Fizz for multiples of 3\n",
    "# Buzz for multiples of 5\n",
    "# FizzBuzz for multiples of both 3 and 5\n",
    "for n in range(100):\n",
    "    if n%15==0:\n",
    "        print(\"FizzBuzz\")\n",
    "        continue\n",
    "    elif n%3==0:\n",
    "        print(\"Fizz\")\n",
    "        continue\n",
    "    elif n%5==0:\n",
    "        print(\"Fizz\")\n",
    "        continue\n",
    "    print(n)"
   ]
  },
  {
   "cell_type": "code",
   "execution_count": 4,
   "metadata": {},
   "outputs": [
    {
     "name": "stdout",
     "output_type": "stream",
     "text": [
      "Enter number of items in the lis1t: 7\n",
      "Enter a number: 3\n",
      "Enter a number: 4\n",
      "Enter a number: 6\n",
      "Enter a number: 6\n",
      "Enter a number: 2\n",
      "Enter a number: 6\n",
      "Enter a number: 8\n",
      "[3.0, 4.0, 6.0, 2.0, 6.0, 8.0]\n"
     ]
    }
   ],
   "source": [
    "# program to remove consecutive duplicates from the list\n",
    "n=int(input('Enter number of items in the lis1t: '))\n",
    "l=[]\n",
    "for i in range(0,n):\n",
    "    e=float(input('Enter a number: '))\n",
    "    l.append(e)\n",
    "prevalue=None\n",
    "newl=[]\n",
    "for e in l:\n",
    "    if e != prevalue:\n",
    "        newl.append(e)\n",
    "        prevalue=e\n",
    "print(newl)"
   ]
  },
  {
   "cell_type": "code",
   "execution_count": 3,
   "metadata": {},
   "outputs": [
    {
     "name": "stdout",
     "output_type": "stream",
     "text": [
      "Enter number of items in the list: 6\n",
      "Enter a number: 2\n",
      "Enter a number: 6\n",
      "Enter a number: 3\n",
      "Enter a number: 6\n",
      "Enter a number: 4\n",
      "Enter a number: 6\n",
      "The unique values from list is\n",
      "2.0\n",
      "6.0\n",
      "3.0\n",
      "4.0\n"
     ]
    }
   ],
   "source": [
    "#program to find unique elements from the list\n",
    "def unq(l):\n",
    "    unql=[]\n",
    "    for x in l:\n",
    "        if x not in unql:\n",
    "            unql.append(x)\n",
    "    for x in unql:\n",
    "        print(x,)\n",
    "n=int(input('Enter number of items in the list: '))\n",
    "l=[]\n",
    "for i in range(0,n):\n",
    "    e=float(input('Enter a number: '))\n",
    "    l.append(e)\n",
    "print(\"The unique values from list is\")\n",
    "unq(l)"
   ]
  },
  {
   "cell_type": "code",
   "execution_count": 27,
   "metadata": {},
   "outputs": [
    {
     "name": "stdout",
     "output_type": "stream",
     "text": [
      " 6 is in the given range!\n"
     ]
    }
   ],
   "source": [
    "# program to check whether a number is in a given range or not\n",
    "def ch_range(n):\n",
    "    if n in range(2,9):\n",
    "        print(\" %s is in the given range!\"%str(n))\n",
    "    else:\n",
    "        print(\" %s is outside the given range!\"%str(n))\n",
    "ch_range(6)"
   ]
  },
  {
   "cell_type": "code",
   "execution_count": 26,
   "metadata": {},
   "outputs": [
    {
     "name": "stdout",
     "output_type": "stream",
     "text": [
      "Enter a string: Python Programs are easier to Understand\n",
      "The no of uppercase letters are: 3\n",
      "The no of lowercase letters are: 32\n"
     ]
    }
   ],
   "source": [
    "# program that calculates no.of upper case and lower case letters\n",
    "string=str(input(\"Enter a string: \"))\n",
    "c1=c2=0\n",
    "for i in string:\n",
    "    if(i.isupper()):\n",
    "        c1+=1\n",
    "    elif(i.islower()):\n",
    "        c2+=1\n",
    "print(\"The no of uppercase letters are:\",c1)\n",
    "print(\"The no of lowercase letters are:\",c2)"
   ]
  }
 ],
 "metadata": {
  "kernelspec": {
   "display_name": "Python 3",
   "language": "python",
   "name": "python3"
  },
  "language_info": {
   "codemirror_mode": {
    "name": "ipython",
    "version": 3
   },
   "file_extension": ".py",
   "mimetype": "text/x-python",
   "name": "python",
   "nbconvert_exporter": "python",
   "pygments_lexer": "ipython3",
   "version": "3.7.6"
  }
 },
 "nbformat": 4,
 "nbformat_minor": 4
}
