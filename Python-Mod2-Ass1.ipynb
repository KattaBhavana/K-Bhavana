{
 "cells": [
  {
   "cell_type": "code",
   "execution_count": 4,
   "metadata": {},
   "outputs": [
    {
     "name": "stdout",
     "output_type": "stream",
     "text": [
      "Enter 1st element: 234\n",
      "Enter 2nd element: 456\n",
      "The elements are not equal!\n"
     ]
    }
   ],
   "source": [
    "a=str(input('Enter 1st element: '))\n",
    "b=str(input('Enter 2nd element: '))\n",
    "if(a==b):\n",
    "    print(\"Both the elements are equal!\")\n",
    "else:\n",
    "    print(\"The elements are not equal!\")"
   ]
  },
  {
   "cell_type": "code",
   "execution_count": 8,
   "metadata": {},
   "outputs": [
    {
     "name": "stdout",
     "output_type": "stream",
     "text": [
      "Enter 1st element: min\n",
      "Enter 2nd element: max\n",
      "Enter 3rd element: min\n",
      "Two are equal!\n"
     ]
    }
   ],
   "source": [
    "a=str(input('Enter 1st element: '))\n",
    "b=str(input('Enter 2nd element: '))\n",
    "c=str(input('Enter 3rd element: '))\n",
    "if a==b and b==c:\n",
    "    print(\"All are equal!\")\n",
    "elif a==b or b==c or c==a:\n",
    "    print(\"Two are equal!\")\n",
    "else:\n",
    "    print(\"Not equal!\")"
   ]
  },
  {
   "cell_type": "code",
   "execution_count": 11,
   "metadata": {},
   "outputs": [
    {
     "name": "stdout",
     "output_type": "stream",
     "text": [
      "Enter 1st element: 2\n",
      "Enter 2nd element: 4\n",
      "sum = 6.0\n",
      "sum is greater than 5\n"
     ]
    }
   ],
   "source": [
    "a=float(input('Enter 1st element: '))\n",
    "b=float(input('Enter 2nd element: '))\n",
    "c=a+b\n",
    "print(\"sum =\",c)\n",
    "if c>5:\n",
    "    print(\"sum is greater than 5\")\n",
    "elif c<5:\n",
    "    print(\"sum is less than 5\")\n",
    "else:\n",
    "    print(\"sum is equal to 5\")"
   ]
  },
  {
   "cell_type": "code",
   "execution_count": 15,
   "metadata": {},
   "outputs": [
    {
     "name": "stdout",
     "output_type": "stream",
     "text": [
      "enter marks obtained38\n",
      "marks obtained are greater than Passing marks\n"
     ]
    }
   ],
   "source": [
    "x=float(input(\"enter marks obtained\"))\n",
    "if x>=35:\n",
    "    print(\"marks obtained are greater than Passing marks\")\n",
    "else:\n",
    "    print(\"marks obtained are less than Passing marks\")"
   ]
  },
  {
   "cell_type": "code",
   "execution_count": 18,
   "metadata": {},
   "outputs": [
    {
     "name": "stdout",
     "output_type": "stream",
     "text": [
      "Enter 1st nuber23\n",
      "Enter 2nd nuber45\n",
      "Enter 3rd nuber12\n",
      "45.0  is maximum\n"
     ]
    }
   ],
   "source": [
    "x=float(input('Enter 1st nuber'))\n",
    "y=float(input('Enter 2nd nuber'))\n",
    "z=float(input('Enter 3rd nuber'))\n",
    "if x>y and x>z:\n",
    "    print(x,\" is maximum\")\n",
    "elif y>z:\n",
    "    print(y,\" is maximum\")\n",
    "else:\n",
    "    print(z,\" is maximum\")"
   ]
  }
 ],
 "metadata": {
  "kernelspec": {
   "display_name": "Python 3",
   "language": "python",
   "name": "python3"
  },
  "language_info": {
   "codemirror_mode": {
    "name": "ipython",
    "version": 3
   },
   "file_extension": ".py",
   "mimetype": "text/x-python",
   "name": "python",
   "nbconvert_exporter": "python",
   "pygments_lexer": "ipython3",
   "version": "3.7.6"
  }
 },
 "nbformat": 4,
 "nbformat_minor": 4
}
