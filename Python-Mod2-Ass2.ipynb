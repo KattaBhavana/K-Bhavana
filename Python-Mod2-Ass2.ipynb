{
 "cells": [
  {
   "cell_type": "code",
   "execution_count": 4,
   "metadata": {},
   "outputs": [
    {
     "name": "stdout",
     "output_type": "stream",
     "text": [
      "Enter 1st value: 6\n",
      "Enter 2nd value: 7\n",
      "Enter 3rd value: 6\n",
      "The max of three numbers is: 7.0\n"
     ]
    }
   ],
   "source": [
    "# program to find max of 3 numbers using functions\n",
    "def max(a,b,c):\n",
    "    if a>=b and a>=c:\n",
    "        return a\n",
    "    elif b>=c:\n",
    "        return b\n",
    "    else:\n",
    "        return c\n",
    "x=float(input('Enter 1st value: '))\n",
    "y=float(input('Enter 2nd value: '))\n",
    "z=float(input('Enter 3rd value: '))\n",
    "print(\"The max of three numbers is:\",max(x,y,z))"
   ]
  },
  {
   "cell_type": "code",
   "execution_count": 3,
   "metadata": {},
   "outputs": [
    {
     "name": "stdout",
     "output_type": "stream",
     "text": [
      "Enter a string: honey\n",
      "Reverse of the string is: yenoh\n"
     ]
    }
   ],
   "source": [
    "# program to reverse a string using functions\n",
    "def rev(r_str):\n",
    "    s=\"\"\n",
    "    for ch in r_str:\n",
    "        s=ch+s\n",
    "    return s\n",
    "a=str(input('Enter a string: '))\n",
    "print(\"Reverse of the string is:\",rev(a))"
   ]
  },
  {
   "cell_type": "code",
   "execution_count": 15,
   "metadata": {},
   "outputs": [
    {
     "name": "stdout",
     "output_type": "stream",
     "text": [
      "Enter a number: 87\n",
      "87 is not an even number\n"
     ]
    }
   ],
   "source": [
    "# program to check a number is even or not\n",
    "def even(x):\n",
    "    if x%2==0:\n",
    "        print(x,\"is an even number\")\n",
    "    else:\n",
    "        print(x,\"is not an even number\")\n",
    "a=int(input('Enter a number: '))\n",
    "even(a)"
   ]
  },
  {
   "cell_type": "code",
   "execution_count": 15,
   "metadata": {},
   "outputs": [
    {
     "name": "stdout",
     "output_type": "stream",
     "text": [
      "Enter a string or a number: 232\n",
      "Entered element is a Palindrome\n",
      "Program executed!\n"
     ]
    }
   ],
   "source": [
    "# program check a string is palindrome or not\n",
    "def palin():\n",
    "    try:\n",
    "        a=str(input('Enter a string or a number: '))\n",
    "    except exception as ValueError:\n",
    "        print('Invalid Input!')\n",
    "    else:\n",
    "        t=a\n",
    "        def rev(r_str):\n",
    "            s=\"\"\n",
    "            for ch in r_str:\n",
    "                s=ch+s\n",
    "            if(t==s):\n",
    "                print('Entered element is a Palindrome')\n",
    "            else:\n",
    "                print('Entered element is not a Palindrome')\n",
    "        rev(a)\n",
    "    finally:\n",
    "        print('Program executed!')\n",
    "palin()        "
   ]
  },
  {
   "cell_type": "code",
   "execution_count": 4,
   "metadata": {},
   "outputs": [
    {
     "name": "stdout",
     "output_type": "stream",
     "text": [
      "Enter a number: 3\n",
      "Sum of squares of 3 natural numbers is: 14\n"
     ]
    }
   ],
   "source": [
    "# program for sum of squares of 1st n natural numbers\n",
    "def sum_sq(x):\n",
    "    if x==0:\n",
    "        return x\n",
    "    else:\n",
    "        return((x*x)+sum_sq(x-1))\n",
    "n=int(input('Enter a number: '))\n",
    "print(\"Sum of squares of\",n,\"natural numbers is:\",sum_sq(n))"
   ]
  }
 ],
 "metadata": {
  "kernelspec": {
   "display_name": "Python 3",
   "language": "python",
   "name": "python3"
  },
  "language_info": {
   "codemirror_mode": {
    "name": "ipython",
    "version": 3
   },
   "file_extension": ".py",
   "mimetype": "text/x-python",
   "name": "python",
   "nbconvert_exporter": "python",
   "pygments_lexer": "ipython3",
   "version": "3.7.6"
  }
 },
 "nbformat": 4,
 "nbformat_minor": 4
}
