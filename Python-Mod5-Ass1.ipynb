{
 "cells": [
  {
   "cell_type": "code",
   "execution_count": 18,
   "metadata": {},
   "outputs": [
    {
     "name": "stdout",
     "output_type": "stream",
     "text": [
      "Enter number of items in the list: 7\n",
      "Enter a number: 2\n",
      "Enter a number: -5\n",
      "Enter a number: 4\n",
      "Enter a number: 6\n",
      "Enter a number: 8\n",
      "Enter a number: -3\n",
      "Enter a number: 1\n",
      "The sum of items in list is 13.0\n"
     ]
    }
   ],
   "source": [
    "# program to sum all the items in list\n",
    "n=int(input('Enter number of items in the list: '))\n",
    "l=[]\n",
    "for i in range(0,n):\n",
    "    e=float(input('Enter a number: '))\n",
    "    l.append(e)\n",
    "def multi(items):\n",
    "    t=0\n",
    "    for x in items:\n",
    "        t=t+x\n",
    "    return t\n",
    "print(\"The sum of items in list is\",multi(l))"
   ]
  },
  {
   "cell_type": "code",
   "execution_count": 15,
   "metadata": {},
   "outputs": [
    {
     "name": "stdout",
     "output_type": "stream",
     "text": [
      "Enter no of dictionaries to create6\n",
      "[{}, {}, {}, {}, {}, {}]\n"
     ]
    }
   ],
   "source": [
    "#program to create a list of empty dictionaries\n",
    "n=int(input('Enter no of dictionaries to create'))\n",
    "l=[{} for i in range(n)]\n",
    "print(l)"
   ]
  },
  {
   "cell_type": "code",
   "execution_count": 14,
   "metadata": {},
   "outputs": [
    {
     "name": "stdout",
     "output_type": "stream",
     "text": [
      "maths\n"
     ]
    }
   ],
   "source": [
    "# program to access dictionary keys element by index\n",
    "d= {'maths': 95,'physics': 75, 'chemistry': 65}\n",
    "print(list(d)[0])"
   ]
  },
  {
   "cell_type": "code",
   "execution_count": 13,
   "metadata": {},
   "outputs": [
    {
     "name": "stdout",
     "output_type": "stream",
     "text": [
      "Green is 1\n",
      "Black is 2\n",
      "Red is 3\n",
      "Blue is 4\n"
     ]
    }
   ],
   "source": [
    "# program to iterate over dictionaries using for loops\n",
    "d= {'Green': 1, 'Black': 2, 'Red': 3, 'Blue': 4}\n",
    "for key,val in d.items():\n",
    "    print(key, 'is', d[key])"
   ]
  },
  {
   "cell_type": "code",
   "execution_count": 12,
   "metadata": {},
   "outputs": [
    {
     "name": "stdout",
     "output_type": "stream",
     "text": [
      "235\n"
     ]
    }
   ],
   "source": [
    "# program to sum all the items in dictionary\n",
    "d= {'maths': 95,'physics': 75, 'chemistry': 65}\n",
    "print(sum(d.values()))"
   ]
  },
  {
   "cell_type": "code",
   "execution_count": 11,
   "metadata": {},
   "outputs": [
    {
     "name": "stdout",
     "output_type": "stream",
     "text": [
      "{1: 10, 2: 20, 3: 30, 4: 40, 5: 50, 6: 60}\n"
     ]
    }
   ],
   "source": [
    "# program to concatenate following dictionaries to create a new one\n",
    "d1={1:10,2:20}\n",
    "d2={3:30,4:40}\n",
    "d3={5:50,6:60}\n",
    "d4={}\n",
    "for d in (d1,d2,d3):\n",
    "    d4.update(d)\n",
    "print(d4)"
   ]
  },
  {
   "cell_type": "code",
   "execution_count": 10,
   "metadata": {},
   "outputs": [
    {
     "name": "stdout",
     "output_type": "stream",
     "text": [
      "('hi', 'hello', 'bye')\n"
     ]
    }
   ],
   "source": [
    "# program to create a tuple\n",
    "t=('hi', 'hello', 'bye')\n",
    "print(t)"
   ]
  },
  {
   "cell_type": "code",
   "execution_count": 9,
   "metadata": {},
   "outputs": [
    {
     "name": "stdout",
     "output_type": "stream",
     "text": [
      "(3, 5.9, 'Good Morning')\n"
     ]
    }
   ],
   "source": [
    "# program to create a tuple with different data types\n",
    "t=(3, 5.9, \"Good Morning\")\n",
    "print(t)"
   ]
  },
  {
   "cell_type": "code",
   "execution_count": 16,
   "metadata": {},
   "outputs": [
    {
     "name": "stdout",
     "output_type": "stream",
     "text": [
      "hello\n"
     ]
    }
   ],
   "source": [
    "# program to convert a tuple to a string\n",
    "def con(t):\n",
    "    str=''.join(t)\n",
    "    return str\n",
    "t=('h', 'e', 'l', 'l', 'o')\n",
    "str=con(t)\n",
    "print(str)"
   ]
  },
  {
   "cell_type": "code",
   "execution_count": 17,
   "metadata": {},
   "outputs": [
    {
     "name": "stdout",
     "output_type": "stream",
     "text": [
      "(3, 1)\n"
     ]
    }
   ],
   "source": [
    "# program to slice a tuple\n",
    "t=(5,2,4,3,1,6,9,8)\n",
    "slice = t[3:5]\n",
    "print(slice)"
   ]
  },
  {
   "cell_type": "code",
   "execution_count": 18,
   "metadata": {},
   "outputs": [
    {
     "name": "stdout",
     "output_type": "stream",
     "text": [
      "('H', 'i', 'i', ' ', 'G', 'o', 'o', 'd', ' ', 'M', 'o', 'r', 'n', 'i', 'n', 'g')\n",
      "16\n"
     ]
    }
   ],
   "source": [
    "# program to find length of the tuple\n",
    "t= tuple('Hii Good Morning')\n",
    "print(t)\n",
    "print(len(t))"
   ]
  },
  {
   "cell_type": "code",
   "execution_count": 19,
   "metadata": {},
   "outputs": [
    {
     "name": "stdout",
     "output_type": "stream",
     "text": [
      "{'r': 2, 'w': 3}\n"
     ]
    }
   ],
   "source": [
    "# program to convert tuple to a dictionary\n",
    "t= ((2,\"r\"),(3,\"w\"))\n",
    "print(dict((y,x)for x,y in t))"
   ]
  },
  {
   "cell_type": "code",
   "execution_count": 20,
   "metadata": {},
   "outputs": [
    {
     "name": "stdout",
     "output_type": "stream",
     "text": [
      "('s', 'm', 'a', 'r', 'g', 'o', 'r', 'P', ' ', 'n', 'o', 'h', 't', 'y', 'P')\n"
     ]
    }
   ],
   "source": [
    "# program to reverse a tuple\n",
    "t= ('Python Programs')\n",
    "t1=reversed(t)\n",
    "print(tuple(t1))"
   ]
  },
  {
   "cell_type": "code",
   "execution_count": 21,
   "metadata": {},
   "outputs": [
    {
     "name": "stdout",
     "output_type": "stream",
     "text": [
      "{'Ham': [10], 'Ben': [20], 'Klen': [30], 'Sam': [40]}\n"
     ]
    }
   ],
   "source": [
    "# program to convert a list of tuples into a dictionary\n",
    "def con(t,d):\n",
    "    for a,b in t:\n",
    "        d.setdefault(a,[]).append(b)\n",
    "    return d\n",
    "t=[('Ham', 10),('Ben', 20),('Klen', 30),('Sam', 40)]\n",
    "d={}\n",
    "print(con(t,d))"
   ]
  },
  {
   "cell_type": "code",
   "execution_count": 22,
   "metadata": {},
   "outputs": [
    {
     "name": "stdout",
     "output_type": "stream",
     "text": [
      "Enter how many numbers in list: 7\n",
      "Enter a number: 2\n",
      "Enter a number: 4\n",
      "Enter a number: 6\n",
      "Enter a number: 8\n",
      "Enter a number: 3\n",
      "Enter a number: 9\n",
      "Enter a number: 1\n",
      "(2.0, 4.0, 6.0, 8.0, 3.0, 9.0, 1.0)\n"
     ]
    }
   ],
   "source": [
    "# program to convert a list to a tuple\n",
    "def con(l):\n",
    "    return tuple(l)\n",
    "n=int(input('Enter how many numbers in list: '))\n",
    "l=[]\n",
    "for i in range(0,n):\n",
    "    e=float(input('Enter a number: '))\n",
    "    l.append(e)\n",
    "print(con(l))"
   ]
  }
 ],
 "metadata": {
  "kernelspec": {
   "display_name": "Python 3",
   "language": "python",
   "name": "python3"
  },
  "language_info": {
   "codemirror_mode": {
    "name": "ipython",
    "version": 3
   },
   "file_extension": ".py",
   "mimetype": "text/x-python",
   "name": "python",
   "nbconvert_exporter": "python",
   "pygments_lexer": "ipython3",
   "version": "3.7.6"
  }
 },
 "nbformat": 4,
 "nbformat_minor": 4
}
