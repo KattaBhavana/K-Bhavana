{
 "cells": [
  {
   "cell_type": "code",
   "execution_count": 5,
   "metadata": {},
   "outputs": [
    {
     "name": "stdout",
     "output_type": "stream",
     "text": [
      "Enter radius of circle: 3\n",
      "Area of circle is 28.274333882308138\n"
     ]
    }
   ],
   "source": [
    "# program to find area of circle using math function\n",
    "r=float(input('Enter radius of circle: '))\n",
    "a=math.pi*r*r\n",
    "print(\"Area of circle is\",a)"
   ]
  },
  {
   "cell_type": "code",
   "execution_count": 9,
   "metadata": {},
   "outputs": [
    {
     "name": "stdout",
     "output_type": "stream",
     "text": [
      "Enter no.of sides of polygon: 4\n",
      "Enter length of the side: 10\n",
      "Area of the given polygon is 100.00000000000001\n"
     ]
    }
   ],
   "source": [
    "# program to find area of regular polygon using math function\n",
    "n=int(input('Enter no.of sides of polygon: '))\n",
    "l=float(input('Enter length of the side: '))\n",
    "a=n*(l*l)/(4*tan(pi/n))\n",
    "print(\"Area of the given polygon is\",a)"
   ]
  },
  {
   "cell_type": "code",
   "execution_count": 12,
   "metadata": {},
   "outputs": [
    {
     "name": "stdout",
     "output_type": "stream",
     "text": [
      "Enter radius of circle: 5\n",
      "Enter angle measured: 40\n",
      "Area of segment is 8.726646259971648\n"
     ]
    }
   ],
   "source": [
    "# program to find area of segment of a circle using math function\n",
    "r=float(input('Enter radius of circle: '))\n",
    "an=float(input('Enter angle measured: '))\n",
    "if an>=360:\n",
    "    print(\"Not possible\")\n",
    "a=(pi*r*r)*(an/360)\n",
    "print(\"Area of segment is\",a)"
   ]
  },
  {
   "cell_type": "code",
   "execution_count": 16,
   "metadata": {},
   "outputs": [
    {
     "name": "stdout",
     "output_type": "stream",
     "text": [
      "['40', 'hello', 'hai', '100', '2', '30', '3', '1']\n"
     ]
    }
   ],
   "source": [
    "# program to shuffle the given list\n",
    "from random import shuffle\n",
    "list=['100','1','2','3','30','40','hai','hello']\n",
    "shuffle(list)\n",
    "print(list)"
   ]
  },
  {
   "cell_type": "code",
   "execution_count": null,
   "metadata": {},
   "outputs": [],
   "source": [
    "# program to generate 10000 random numbers with differece 50\n"
   ]
  },
  {
   "cell_type": "code",
   "execution_count": null,
   "metadata": {},
   "outputs": [],
   "source": [
    "# programs to find following using math module\n"
   ]
  }
 ],
 "metadata": {
  "kernelspec": {
   "display_name": "Python 3",
   "language": "python",
   "name": "python3"
  },
  "language_info": {
   "codemirror_mode": {
    "name": "ipython",
    "version": 3
   },
   "file_extension": ".py",
   "mimetype": "text/x-python",
   "name": "python",
   "nbconvert_exporter": "python",
   "pygments_lexer": "ipython3",
   "version": "3.7.6"
  }
 },
 "nbformat": 4,
 "nbformat_minor": 4
}
